{
 "cells": [
  {
   "cell_type": "markdown",
   "metadata": {},
   "source": [
    "# REBOTA\n",
    "### El juego consiste en no dejar que la pelota caiga y a medida que rebota en la base, va subiendo la puntuación"
   ]
  },
  {
   "cell_type": "code",
   "execution_count": 1,
   "metadata": {},
   "outputs": [
    {
     "name": "stdout",
     "output_type": "stream",
     "text": [
      "pygame 2.0.0 (SDL 2.0.12, python 3.8.5)\n",
      "Hello from the pygame community. https://www.pygame.org/contribute.html\n"
     ]
    }
   ],
   "source": [
    "import pygame\n",
    "# Inicializo pygame\n",
    "pygame.init()\n",
    "\n",
    "pygame.mixer.init()\n",
    "# Defino el tamaño de la ventana\n",
    "size = 700, 500\n",
    "screen = pygame.display.set_mode(size)\n",
    "# le coloco un título a la ventana\n",
    "pygame.display.set_caption(\"REBOTA\")\n",
    "# Inicializo variables\n",
    "width, height = 700, 500 # Bordes\n",
    "speed = [2, 2] # Velocidad de la bola\n",
    "font = pygame.font.SysFont(\"monospace\", 16) # Fuente para la puntuación\n",
    "# Cargo el fondo\n",
    "background = pygame.image.load(\"fondo.png\").convert()\n",
    "# Creo el objeto de la pelota y obtengo su rectángulo\n",
    "ball = pygame.image.load(\"ball.png\")\n",
    "ballrect = ball.get_rect()\n",
    "# Creo el objeto de la base y obtengo su rectángulo\n",
    "base = pygame.image.load(\"base.png\")\n",
    "baserect = base.get_rect()\n",
    "# Pongo la base en la parte inferior de la pantalla\n",
    "posi = baserect.move_ip(width//2, height-24)\n",
    "# Inicializo una variable para la puntuación\n",
    "score = 0\n",
    "gameover = True\n",
    "rebota_sound = pygame.mixer.Sound(\"rebota.ogg\")\n",
    "# Comienzo el bucle\n",
    "run = True\n",
    "while run:\n",
    "    # Esperamos un tiempo (milisegundos) para que la pelota no vaya muy rápido\n",
    "   \n",
    "    pygame.time.delay(3)\n",
    "    # Concreto los eventos que se han producido\n",
    "    for event in pygame.event.get():\n",
    "        #Si el evento es salir de la ventana, se termina\n",
    "        if event.type == pygame.QUIT:\n",
    "            run = False\n",
    "    # Compruebo si se pulsa alguna tecla\n",
    "    keystate = pygame.key.get_pressed()\n",
    "    # Detecto la colisión de la base con los lados y controlo que no se salga de la ventana     \n",
    "    if keystate[pygame.K_LEFT] and baserect.left < 0:\n",
    "        baserect = baserect.move(0,0)\n",
    "    elif keystate[pygame.K_LEFT]:\n",
    "        baserect = baserect.move(-2, 0)\n",
    "    if keystate[pygame.K_RIGHT] and baserect.right > width: \n",
    "        baserect = baserect.move(0, 0)\n",
    "    elif keystate[pygame.K_RIGHT]:\n",
    "        baserect = baserect.move(2, 0)\n",
    "    #posi_ant = posi    \n",
    "    # Compruebo que la pelota colisione con la base\n",
    "    if baserect.colliderect(ballrect):\n",
    "        rebota_sound.play()\n",
    "        speed[0] = -speed[0]\n",
    "        score += 1\n",
    "        pygame.display.flip()\n",
    "        #Colisión sin traspaso\n",
    "        # ta dificil\n",
    "    # Movimiento de la pelota\n",
    "    ballrect = ballrect.move(speed)\n",
    "    \n",
    "    # Compruebo si la pelota llega a los límites de la ventana\n",
    "    if ballrect.left < 0 or ballrect.right > width:\n",
    "        speed[0] = -speed[0]\n",
    "    if ballrect.top < 0 or ballrect.bottom > height:\n",
    "        speed[1] = -speed[1]\n",
    "    # Indico que si la pelota choca con la parte inferior de la pantalla, se finalice el juego\n",
    "    # La pelota toca siempre el borde inferior de la pantalla,la colisión con la base sólo es detectada, pero como la traspasa, \n",
    "    # al ejecutar el código de finalización del juego, siempre terminará al rebotar en la parte de abajo\n",
    "        \n",
    "    # Pinto el fondo, dibujo la pelota, la base, la puntuación y actualizo pantalla\n",
    "    screen.blit(background, [0, 0])\n",
    "    screen.blit(ball, ballrect)\n",
    "    screen.blit(base, baserect)\n",
    "    #rebota_sound = pygame.mixer.Sound(\"rebota.ogg\")\n",
    "    scoreText = font.render(\"Score: {0}\".format(score), 1, (0,0,0))\n",
    "    screen.blit(scoreText, (5, 10))\n",
    "    pygame.display.flip()\n",
    "# Salir de pygame\n",
    "pygame.quit()\n"
   ]
  },
  {
   "cell_type": "code",
   "execution_count": null,
   "metadata": {},
   "outputs": [],
   "source": []
  }
 ],
 "metadata": {
  "kernelspec": {
   "display_name": "Python 3",
   "language": "python",
   "name": "python3"
  },
  "language_info": {
   "codemirror_mode": {
    "name": "ipython",
    "version": 3
   },
   "file_extension": ".py",
   "mimetype": "text/x-python",
   "name": "python",
   "nbconvert_exporter": "python",
   "pygments_lexer": "ipython3",
   "version": "3.8.5"
  }
 },
 "nbformat": 4,
 "nbformat_minor": 4
}
